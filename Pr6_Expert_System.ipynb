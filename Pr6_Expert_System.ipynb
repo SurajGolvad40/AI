{
 "cells": [
  {
   "cell_type": "code",
   "execution_count": 5,
   "id": "d8091205",
   "metadata": {},
   "outputs": [
    {
     "name": "stdout",
     "output_type": "stream",
     "text": [
      "--------->> Medical and Hospital Expert System <<--------\n",
      "---------------------------------------------------------\n",
      "Enter the symptom : fever\n",
      "Enter the symptom : cough\n",
      "---------------------------------------------------------\n",
      "Diagnosis: Migraine\n",
      "---------------------------------------------------------\n",
      "Treatment: Ibuprofen\n",
      "---------------------------------------------------------\n",
      "Recommended Hospitals:\n",
      " 1. Life Care \n",
      " >> Facilaties: 1. X-ray 2. Blood Test  3. cash payment\n",
      "2. Apollo  Hospital:\n",
      " >> Facilities: 1.Mri 2.CT-Scan online as well as cash\n"
     ]
    }
   ],
   "source": [
    "print(\"--------->> Medical and Hospital Expert System <<--------\")\n",
    "print(\"---------------------------------------------------------\")\n",
    "def expert_system(symptoms,symptom1):\n",
    "    diagnosis = None\n",
    "    treatment = None\n",
    "\n",
    "    if (symptoms == 'fever' and symptom1 == 'cough') or (symptoms == 'cough' and symptom1 == 'fever'):\n",
    "        diagnosis = 'Migraine'\n",
    "        treatment = 'Ibuprofen'\n",
    "        hospitals='Recommended Hospitals:\\n 1. Life Care \\n >> Facilaties: 1. X-ray 2. Blood Test  3. cash payment\\n2. Apollo  Hospital:\\n >> Facilities: 1.Mri 2.CT-Scan online as well as cash'\n",
    "        return diagnosis, treatment, hospitals\n",
    "\n",
    "    elif (symptoms == 'cough' and symptom1 == 'headache') or (symptoms == 'headache' and symptom1 == 'cough') :\n",
    "        diagnosis = 'Flu'\n",
    "        treatment = 'Acetaminophen'\n",
    "        hospitals='Recommended Hospitals:\\n 1. Life Care \\n >> Facilaties: 1. X-ray 2. Blood Test 3. cash payment\\n2. Apollo  Hospital:\\n>> Facilities: 1.Mri 2.CT-Scan online as well as cash'\n",
    "        return diagnosis, treatment,hospitals\n",
    "    \n",
    "    elif (symptoms == 'chest_pain' and symptom1 == 'fever') or (symptoms == 'fever' and symptom1 == 'chest_pain'):\n",
    "        diagnosis = 'pneumonia'\n",
    "        treatment = 'Antibiotics and rest'\n",
    "        hospitals = 'Recommended Hospitals:\\n 1. Ashoka \\n >> Facilaties: 1. X-ray 2. Blood Test 3. cash payment\\n2. wokart  Hospital:\\n >>Facilities: 1.Mri 2.CT-Scan online as well as cash'\n",
    "        return diagnosis, treatment,hospitals\n",
    "    \n",
    "    elif (symptoms == 'shortness_of_breadth' and symptom1 == 'cough') or (symptoms == 'cough' and symptom1 == 'shortness_of_breadth') :\n",
    "        diagnosis = 'Asthma'\n",
    "        treatment = 'Bronchodilators and inhaled corticosteroids'\n",
    "        hospitals = 'Recommended Hospitals:\\n 1. Six sigma \\n >> Facilaties: 1. X-ray 2. Blood Test 3.cash payment\\n2. magna  Hospital:\\n >>Facilities: 1.Mri 2.CT-Scan online as well as cash'\n",
    "        return diagnosis, treatment,hospitals\n",
    "    \n",
    "    elif (symptoms == 'frequent_urination'  and symptom1 == 'fatigue') or (symptoms == 'fatigue'  and symptom1 == 'frequent_urination'):\n",
    "        diagnosis = 'Diabetes'\n",
    "        treatment = 'Insulin therapy and blood sugar monitoring'\n",
    "        hospitals = 'Recommended Hospitals:\\n 1. cooper \\n >> Facilaties: 1. X-ray 2. Blood Test 3.cash payment\\n2. leelavati Hospital:\\n >>Facilities: 1.Mri 2.CT-Scan online as well as cash'\n",
    "        return diagnosis, treatment,hospitals\n",
    "    else:\n",
    "        diagnosis='No diagnosis'\n",
    "        treatment=\"No treatment\"\n",
    "    return diagnosis, treatment\n",
    "\n",
    "\n",
    "symptoms= input(\"Enter the symptom : \")\n",
    "symptom1=input(\"Enter the symptom : \")\n",
    "\n",
    "\n",
    "\n",
    "diagnosis, treatment, hospitals = expert_system(symptoms,symptom1)\n",
    "\n",
    "print(\"---------------------------------------------------------\")\n",
    "print('Diagnosis:', diagnosis)\n",
    "print(\"---------------------------------------------------------\")\n",
    "print('Treatment:', treatment)\n",
    "print(\"---------------------------------------------------------\")\n",
    "print(hospitals)"
   ]
  }
 ],
 "metadata": {
  "kernelspec": {
   "display_name": "Python 3 (ipykernel)",
   "language": "python",
   "name": "python3"
  },
  "language_info": {
   "codemirror_mode": {
    "name": "ipython",
    "version": 3
   },
   "file_extension": ".py",
   "mimetype": "text/x-python",
   "name": "python",
   "nbconvert_exporter": "python",
   "pygments_lexer": "ipython3",
   "version": "3.9.13"
  }
 },
 "nbformat": 4,
 "nbformat_minor": 5
}
