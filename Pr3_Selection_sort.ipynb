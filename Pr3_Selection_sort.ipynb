{
 "cells": [
  {
   "cell_type": "code",
   "execution_count": 1,
   "id": "02058112",
   "metadata": {},
   "outputs": [
    {
     "name": "stdout",
     "output_type": "stream",
     "text": [
      "Enter Number of Element You want to Add in Array: 5\n",
      "Enter Element: 100\n",
      "Enter Element: 76\n",
      "Enter Element: 88\n",
      "Enter Element: 35\n",
      "Enter Element: 66\n",
      "\n",
      "Unsorted Array: \n",
      "100 76 88 35 66 \n",
      "Sorted array\n",
      "35 66 76 88 100 "
     ]
    }
   ],
   "source": [
    "\n",
    "\n",
    "A = []\n",
    "x=int(input(\"Enter Number of Element You want to Add in Array: \"))\n",
    "for i in range(x):\n",
    "    y=int(input(\"Enter Element: \"))\n",
    "    A.append(y)\n",
    "\n",
    "\n",
    "print(\"\\nUnsorted Array: \")\n",
    "for i in range(len(A)):\n",
    "    print(A[i], end=\" \")\n",
    "     \n",
    "for i in range(len(A)):\n",
    "    min_idx= i\n",
    "    for j in range(i+1,len(A)):\n",
    "        if A[min_idx]> A[j]:\n",
    "            min_idx= j\n",
    "    \n",
    "    A[i], A[min_idx] = A[min_idx], A[i]\n",
    "\n",
    "\n",
    "print (\"\\nSorted array\")\n",
    "for i in range(len(A)):\n",
    "    print(A[i],end=\" \")"
   ]
  },
  {
   "cell_type": "code",
   "execution_count": null,
   "id": "4cd61417",
   "metadata": {},
   "outputs": [],
   "source": []
  }
 ],
 "metadata": {
  "kernelspec": {
   "display_name": "Python 3 (ipykernel)",
   "language": "python",
   "name": "python3"
  },
  "language_info": {
   "codemirror_mode": {
    "name": "ipython",
    "version": 3
   },
   "file_extension": ".py",
   "mimetype": "text/x-python",
   "name": "python",
   "nbconvert_exporter": "python",
   "pygments_lexer": "ipython3",
   "version": "3.9.13"
  }
 },
 "nbformat": 4,
 "nbformat_minor": 5
}
