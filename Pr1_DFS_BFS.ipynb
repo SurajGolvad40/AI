{
 "cells": [
  {
   "cell_type": "code",
   "execution_count": 1,
   "id": "297c65c9",
   "metadata": {},
   "outputs": [],
   "source": [
    "# DFS-BFS"
   ]
  },
  {
   "cell_type": "code",
   "execution_count": 2,
   "id": "013f3e67",
   "metadata": {},
   "outputs": [
    {
     "name": "stdout",
     "output_type": "stream",
     "text": [
      "-->> Depth-First Search <<--\n",
      "\n",
      "\tVisited:  5 3 2 4 8 7 \n",
      "\n",
      "--->> Breadth-First Search <<---\n",
      "\n",
      "\tVisited:  5 3 7 2 4 8 "
     ]
    }
   ],
   "source": [
    "graph = {\n",
    "  '5' : ['3','7'],\n",
    "  '3' : ['2', '4', '5'],\n",
    "  '7' : ['8','5'],\n",
    "  '2' : [],\n",
    "  '4' : ['8','3'],\n",
    "  '8' : ['4','7']\n",
    "}\n",
    "\n",
    "visited = set() \n",
    "\n",
    "def dfs(visited, graph, node):   \n",
    "    if node not in visited:\n",
    "        print (node,end=\" \")\n",
    "        visited.add(node)\n",
    "        for neighbour in graph[node]:\n",
    "            dfs(visited, graph, neighbour)\n",
    "\n",
    "\n",
    "def bfs(visited, graph, node): \n",
    "  visited.append(node)\n",
    "  queue.append(node)\n",
    "\n",
    "  while queue:         \n",
    "    m = queue.pop(0) \n",
    "    print (m, end = \" \") \n",
    "\n",
    "    for neighbour in graph[m]:\n",
    "      if neighbour not in visited:\n",
    "        visited.append(neighbour)\n",
    "        queue.append(neighbour)\n",
    "        \n",
    "        \n",
    "\n",
    "print(\"-->> Depth-First Search <<--\")\n",
    "print(\"\\n\\tVisited: \", end=\" \")\n",
    "dfs(visited, graph, '5')\n",
    "\n",
    "visited = []\n",
    "queue = []     \n",
    "\n",
    "print(\"\\n\\n--->> Breadth-First Search <<---\")\n",
    "print(\"\\n\\tVisited: \", end=\" \")\n",
    "bfs(visited, graph, '5')   \n"
   ]
  },
  {
   "cell_type": "code",
   "execution_count": null,
   "id": "9e8895e0",
   "metadata": {},
   "outputs": [],
   "source": []
  }
 ],
 "metadata": {
  "kernelspec": {
   "display_name": "Python 3 (ipykernel)",
   "language": "python",
   "name": "python3"
  },
  "language_info": {
   "codemirror_mode": {
    "name": "ipython",
    "version": 3
   },
   "file_extension": ".py",
   "mimetype": "text/x-python",
   "name": "python",
   "nbconvert_exporter": "python",
   "pygments_lexer": "ipython3",
   "version": "3.10.9"
  }
 },
 "nbformat": 4,
 "nbformat_minor": 5
}
